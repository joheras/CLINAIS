{
 "cells": [
  {
   "cell_type": "code",
   "execution_count": null,
   "id": "fa65bf83-3922-4f10-96d7-9ad8922c7d9a",
   "metadata": {},
   "outputs": [],
   "source": [
    "from transformers import pipeline\n",
    "\n",
    "classifier = pipeline(\"token-classification\", model=\"joheras/clinico-bsc-bio-ehr-es-finetuned\"); #clinico-bsc-bio-ehr-es-longformer"
   ]
  },
  {
   "cell_type": "code",
   "execution_count": null,
   "id": "9b3bb509-91a5-44dc-acc6-2b0a46160e0b",
   "metadata": {},
   "outputs": [],
   "source": [
    "import json\n",
    "\n",
    "with open('clinais.test&background.blind.json') as f:\n",
    "    data=json.load(f)"
   ]
  },
  {
   "cell_type": "code",
   "execution_count": null,
   "id": "4d99a23a-18d5-4412-bf8e-878ac85565c6",
   "metadata": {},
   "outputs": [],
   "source": [
    "def predice(example):\n",
    "    res = classifier(example['note_text'])\n",
    "    track = {}\n",
    "    for x in res:\n",
    "        if(x['entity'][0:2]=='B-'):\n",
    "            track[x['start']]=x['entity'][2:]\n",
    "    \n",
    "    \n",
    "    boundary_annotation = example['boundary_annotation']['gold']\n",
    "    boundary_annotation_res = []\n",
    "    for x in boundary_annotation:\n",
    "        temp = None\n",
    "        if(x['start_offset'] in track.keys()):\n",
    "            temp = track[x['start_offset']]\n",
    "        \n",
    "        boundary_annotation_res.append({'span':x['span'],'start_offset':x['start_offset'],'end_offset':x['end_offset'],'boundary':temp})\n",
    "    return boundary_annotation_res"
   ]
  },
  {
   "cell_type": "code",
   "execution_count": null,
   "id": "30243f05-74cc-4a56-9e76-a1a96edaf1ea",
   "metadata": {},
   "outputs": [],
   "source": [
    "def predice_v2(example):\n",
    "    res = classifier(example['note_text'])\n",
    "    track = {}\n",
    "    previous = None\n",
    "    for i,x in enumerate(res):\n",
    "        if(not('.' in x['word']) and (not('\\n' in x['word']))):\n",
    "            if((x['entity'][0:2]=='B-') and (x['entity'][2:]!=previous)):\n",
    "                track[x['start']]=x['entity'][2:]\n",
    "                previous=x['entity'][2:]\n",
    "            elif(i==0):\n",
    "                track[x['start']]=x['entity'][2:]\n",
    "                previous=x['entity'][2:]\n",
    "            elif(i+1<len(res)):\n",
    "                if((res[i+1]['entity'][2:]==x['entity'][2:]) and (x['entity'][2:]!=previous)):\n",
    "                    track[x['start']]=x['entity'][2:]\n",
    "                    previous=x['entity'][2:]\n",
    "\n",
    "    \n",
    "    boundary_annotation = example['boundary_annotation']['gold']\n",
    "    boundary_annotation_res = []\n",
    "    for x in boundary_annotation:\n",
    "        temp = None\n",
    "        if(x['start_offset'] in track.keys()):\n",
    "            temp = track[x['start_offset']]\n",
    "        \n",
    "        boundary_annotation_res.append({'span':x['span'],'start_offset':x['start_offset'],'end_offset':x['end_offset'],'boundary':temp})\n",
    "    return boundary_annotation_res"
   ]
  },
  {
   "cell_type": "code",
   "execution_count": 5,
   "id": "1f65a576-8c51-4fdd-9be6-88d1b7f0e237",
   "metadata": {
    "tags": []
   },
   "outputs": [
    {
     "name": "stderr",
     "output_type": "stream",
     "text": [
      "100%|██████████| 2843/2843 [16:38<00:00,  2.85it/s]\n"
     ]
    }
   ],
   "source": [
    "from tqdm import tqdm \n",
    "for key in tqdm(data['annotated_entries']):\n",
    "    data['annotated_entries'][key]['boundary_annotation']['prediction'] = predice_v2(data['annotated_entries'][key])\n",
    "\n",
    "with open('clinais.test&background.blind.result.json', 'w') as outfile:\n",
    "    json.dump(data, outfile)\n",
    "\n",
    "# !python starting_kit/evaluation/evaluate.py -p clinais.dev.result.json -r starting_kit/samples/clinais.dev.json -o result.json --add_scores_in_prediction_file\n",
    "\n",
    "# with open('result.json') as f:\n",
    "#     res = json.load(f)\n",
    "# print(res['Weighted B2'])"
   ]
  },
  {
   "cell_type": "code",
   "execution_count": null,
   "id": "cd09b1ed-ee39-4226-b0b3-7ecc7409544a",
   "metadata": {},
   "outputs": [],
   "source": []
  }
 ],
 "metadata": {
  "kernelspec": {
   "display_name": "Python [conda env:.conda-hf]",
   "language": "python",
   "name": "conda-env-.conda-hf-py"
  },
  "language_info": {
   "codemirror_mode": {
    "name": "ipython",
    "version": 3
   },
   "file_extension": ".py",
   "mimetype": "text/x-python",
   "name": "python",
   "nbconvert_exporter": "python",
   "pygments_lexer": "ipython3",
   "version": "3.10.4"
  }
 },
 "nbformat": 4,
 "nbformat_minor": 5
}
