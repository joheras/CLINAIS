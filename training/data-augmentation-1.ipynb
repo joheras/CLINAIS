{
 "cells": [
  {
   "cell_type": "markdown",
   "id": "98418b43-333d-40de-b56e-41c45bf024f7",
   "metadata": {},
   "source": [
    "# Loading data"
   ]
  },
  {
   "cell_type": "code",
   "execution_count": 63,
   "id": "64460e65-a423-4bfc-ad88-77dd6951eeaa",
   "metadata": {},
   "outputs": [],
   "source": [
    "from transformers import pipeline\n",
    "en_es = pipeline('translation',model='Helsinki-NLP/opus-mt-en-es')\n",
    "es_en = pipeline('translation',model='Helsinki-NLP/opus-mt-es-en')"
   ]
  },
  {
   "cell_type": "code",
   "execution_count": 1,
   "id": "0680d51b-d136-49a7-a953-7736634130b0",
   "metadata": {},
   "outputs": [],
   "source": [
    "import json\n",
    "\n",
    "with open('clinais.train.json') as f:\n",
    "    data = json.load(f)\n",
    "\n",
    "from tqdm import tqdm\n",
    "\n",
    "finalresult = []\n",
    "for key in tqdm(data['annotated_entries'].keys()):\n",
    "    ident = data['annotated_entries'][key]['note_id']\n",
    "    res = []\n",
    "    tags = []\n",
    "    gold = data['annotated_entries'][key]['boundary_annotation']['gold']\n",
    "    currentboundary = ''\n",
    "    for g in gold:\n",
    "        res.append(g['span'])\n",
    "        if(g['boundary'] is None):\n",
    "            tags.append('I-'+currentboundary)\n",
    "        else:\n",
    "            currentboundary = g['boundary']\n",
    "            tags.append('B-'+currentboundary)\n",
    "    finalresult.append([ident,res,tags])\n",
    "\n",
    "# finalresult    \n",
    "\n",
    "import numpy as np\n",
    "import itertools\n",
    "tags = [x[2] for x in finalresult]\n",
    "tags = np.unique(list(itertools.chain(*tags)))\n",
    "id2label = {}\n",
    "label2id = {}\n",
    "for i,tag in enumerate(tags):\n",
    "    id2label[i] = tag\n",
    "    label2id[tag] = i\n",
    "\n",
    "finalresult = [[x[0],x[1],[label2id[y] for y in x[2]]] for x in finalresult]\n",
    "#finalresult[0]\n",
    "\n",
    "\n",
    "with open('clinais.dev.json') as f:\n",
    "    data = json.load(f)\n",
    "\n",
    "finalresultdev = []\n",
    "for key in tqdm(data['annotated_entries'].keys()):\n",
    "    ident = data['annotated_entries'][key]['note_id']\n",
    "    res = []\n",
    "    tags = []\n",
    "    gold = data['annotated_entries'][key]['boundary_annotation']['gold']\n",
    "    currentboundary = ''\n",
    "    for g in gold:\n",
    "        res.append(g['span'])\n",
    "        if(g['boundary'] is None):\n",
    "            tags.append('I-'+currentboundary)\n",
    "        else:\n",
    "            currentboundary = g['boundary']\n",
    "            tags.append('B-'+currentboundary)\n",
    "    finalresultdev.append([ident,res,tags])\n",
    "\n",
    "finalresultdev = [[x[0],x[1],[label2id[y] for y in x[2]]] for x in finalresultdev]\n",
    "\n",
    "\n",
    "from datasets import Dataset,DatasetDict\n",
    "\n",
    "import pandas as pd\n",
    "df = pd.DataFrame(data=finalresult,columns=['id','tokens','tags'])\n",
    "dataset_train = Dataset.from_pandas(df)\n",
    "\n",
    "df = pd.DataFrame(data=finalresultdev,columns=['id','tokens','tags'])\n",
    "dataset_val = Dataset.from_pandas(df)\n",
    "\n",
    "dataset = DatasetDict(train=dataset_train,val=dataset_val)"
   ]
  },
  {
   "cell_type": "code",
   "execution_count": 16,
   "id": "6ffca999-2156-44f8-93fc-e6e7d351d6ba",
   "metadata": {},
   "outputs": [
    {
     "data": {
      "text/plain": [
       "2028"
      ]
     },
     "execution_count": 16,
     "metadata": {},
     "output_type": "execute_result"
    }
   ],
   "source": [
    "len(dataset['train']['tokens'][0])*4"
   ]
  },
  {
   "cell_type": "markdown",
   "id": "f40b906c-13e3-4e8d-a772-4a54295b01de",
   "metadata": {},
   "source": [
    "## Data augmentation"
   ]
  },
  {
   "cell_type": "code",
   "execution_count": 86,
   "id": "834fbc02-363b-4431-8666-509f8475d913",
   "metadata": {},
   "outputs": [],
   "source": [
    "from transformers import pipeline\n",
    "from random import randint"
   ]
  },
  {
   "cell_type": "code",
   "execution_count": 87,
   "id": "88c4f1c7-dea4-4579-8037-a677a0583016",
   "metadata": {},
   "outputs": [],
   "source": [
    "fillmask = pipeline(\"fill-mask\", model=\"BSC-LT/roberta-base-biomedical-clinical-es\")"
   ]
  },
  {
   "cell_type": "code",
   "execution_count": 88,
   "id": "52f86454-b331-4fa7-b99c-2e2d86756a53",
   "metadata": {},
   "outputs": [],
   "source": [
    "mask_token = fillmask.tokenizer.mask_token"
   ]
  },
  {
   "cell_type": "code",
   "execution_count": 34,
   "id": "0cf26d4a-c878-4418-b52a-37e916b7b9e7",
   "metadata": {},
   "outputs": [],
   "source": [
    "def augment_data(examples):\n",
    "    outputs = []\n",
    "    tags = []\n",
    "    for words,t in zip(examples[\"tokens\"],examples[\"tags\"]):\n",
    "        \n",
    "        if(len(words)>250):\n",
    "            K = randint(1, 250)\n",
    "            masked_sentence = \" \".join(words[:K]  + [mask_token] + words[K+1:250])\n",
    "            predictions = fillmask(masked_sentence)\n",
    "            augmented_sequences = [predictions[i][\"sequence\"] + \" \" + \" \".join(words[250:]) for i in range(3)]\n",
    "        else:\n",
    "            K = randint(1, len(words))\n",
    "            masked_sentence = \" \".join(words[:K]  + [mask_token] + words[K+1:])\n",
    "            predictions = fillmask(masked_sentence)\n",
    "            augmented_sequences = [predictions[i][\"sequence\"] for i in range(3)]\n",
    "        \n",
    "        outputs += [\" \".join(words)] + augmented_sequences\n",
    "        \n",
    "        tags += [t]+[t]+[t]+[t]\n",
    "    outputs = [x.split(' ') if i%4==0 else x.split(' ')[1:] for i,x in enumerate(outputs)]\n",
    "    return {\"tokens\": outputs,\"tags\":tags}"
   ]
  },
  {
   "cell_type": "code",
   "execution_count": 35,
   "id": "0aaaca38-4967-4989-8067-a90bb09b55ab",
   "metadata": {},
   "outputs": [
    {
     "data": {
      "application/json": {
       "ascii": false,
       "bar_format": null,
       "colour": null,
       "elapsed": 0.012132406234741211,
       "initial": 0,
       "n": 0,
       "ncols": null,
       "nrows": null,
       "postfix": null,
       "prefix": "",
       "rate": null,
       "total": 98,
       "unit": "ba",
       "unit_divisor": 1000,
       "unit_scale": false
      },
      "application/vnd.jupyter.widget-view+json": {
       "model_id": "30abcf8d81794e0d809b8b43591f5fb5",
       "version_major": 2,
       "version_minor": 0
      },
      "text/plain": [
       "  0%|          | 0/98 [00:00<?, ?ba/s]"
      ]
     },
     "metadata": {},
     "output_type": "display_data"
    }
   ],
   "source": [
    "augmented_dataset = dataset['train'].map(augment_data, batched=True, remove_columns=dataset['train'].column_names, batch_size=8)"
   ]
  },
  {
   "cell_type": "code",
   "execution_count": 39,
   "id": "e05f9c71-5a40-4ffa-ab10-2c567b39f4a8",
   "metadata": {},
   "outputs": [],
   "source": [
    "datasetNew = DatasetDict(train=augmented_dataset,val=dataset_val.remove_columns(\"id\"))"
   ]
  },
  {
   "cell_type": "code",
   "execution_count": 52,
   "id": "26c21346-971d-421e-83c1-4f215648fb24",
   "metadata": {},
   "outputs": [],
   "source": [
    "dftrain = augmented_dataset.to_dict()"
   ]
  },
  {
   "cell_type": "code",
   "execution_count": 54,
   "id": "663154d5-d88f-453d-8106-391b90d1623a",
   "metadata": {},
   "outputs": [],
   "source": [
    "tokens = []\n",
    "tags = []\n",
    "\n",
    "for x,y in zip(dftrain['tokens'],dftrain['tags']):\n",
    "    if(len(x)==len(y)):\n",
    "        tokens.append(x)\n",
    "        tags.append(y)"
   ]
  },
  {
   "cell_type": "code",
   "execution_count": 58,
   "id": "5f2fc5ba-4007-4e42-95b0-b049f81fd27b",
   "metadata": {},
   "outputs": [],
   "source": [
    "newdict = {'tokens':tokens,'tags':tags}\n",
    "dftrain = pd.DataFrame(newdict)\n",
    "datasetNew = DatasetDict(train=Dataset.from_pandas(dftrain),val=dataset_val.remove_columns(\"id\"))"
   ]
  },
  {
   "cell_type": "code",
   "execution_count": 59,
   "id": "d00c3fc2-581e-4f32-a9b1-737b0ea25112",
   "metadata": {},
   "outputs": [
    {
     "data": {
      "text/plain": [
       "(507, 507)"
      ]
     },
     "execution_count": 59,
     "metadata": {},
     "output_type": "execute_result"
    }
   ],
   "source": [
    "len(datasetNew['train']['tokens'][2]),len(datasetNew['train']['tags'][2])"
   ]
  },
  {
   "cell_type": "code",
   "execution_count": 60,
   "id": "0ea953a3-a346-471e-9de6-d48d1cbb2399",
   "metadata": {},
   "outputs": [
    {
     "data": {
      "application/json": {
       "ascii": false,
       "bar_format": null,
       "colour": null,
       "elapsed": 0.011911392211914062,
       "initial": 0,
       "n": 0,
       "ncols": null,
       "nrows": null,
       "postfix": null,
       "prefix": "Saving the dataset (0/1 shards)",
       "rate": null,
       "total": 2850,
       "unit": " examples",
       "unit_divisor": 1000,
       "unit_scale": false
      },
      "application/vnd.jupyter.widget-view+json": {
       "model_id": "",
       "version_major": 2,
       "version_minor": 0
      },
      "text/plain": [
       "Saving the dataset (0/1 shards):   0%|          | 0/2850 [00:00<?, ? examples/s]"
      ]
     },
     "metadata": {},
     "output_type": "display_data"
    },
    {
     "data": {
      "application/json": {
       "ascii": false,
       "bar_format": null,
       "colour": null,
       "elapsed": 0.015801429748535156,
       "initial": 0,
       "n": 0,
       "ncols": null,
       "nrows": null,
       "postfix": null,
       "prefix": "Saving the dataset (0/1 shards)",
       "rate": null,
       "total": 127,
       "unit": " examples",
       "unit_divisor": 1000,
       "unit_scale": false
      },
      "application/vnd.jupyter.widget-view+json": {
       "model_id": "",
       "version_major": 2,
       "version_minor": 0
      },
      "text/plain": [
       "Saving the dataset (0/1 shards):   0%|          | 0/127 [00:00<?, ? examples/s]"
      ]
     },
     "metadata": {},
     "output_type": "display_data"
    }
   ],
   "source": [
    "datasetNew.save_to_disk('augmented_dataset')"
   ]
  },
  {
   "cell_type": "code",
   "execution_count": 61,
   "id": "584960bf-7b76-4839-bb7f-bf1400b16dc5",
   "metadata": {},
   "outputs": [
    {
     "data": {
      "text/plain": [
       "DatasetDict({\n",
       "    train: Dataset({\n",
       "        features: ['tokens', 'tags'],\n",
       "        num_rows: 2850\n",
       "    })\n",
       "    val: Dataset({\n",
       "        features: ['tokens', 'tags'],\n",
       "        num_rows: 127\n",
       "    })\n",
       "})"
      ]
     },
     "execution_count": 61,
     "metadata": {},
     "output_type": "execute_result"
    }
   ],
   "source": [
    "datasetNew"
   ]
  },
  {
   "cell_type": "code",
   "execution_count": null,
   "id": "7cd128ea-b544-409a-ab25-5eb45bf11aaf",
   "metadata": {},
   "outputs": [],
   "source": []
  }
 ],
 "metadata": {
  "kernelspec": {
   "display_name": "Python [conda env:fastai]",
   "language": "python",
   "name": "conda-env-fastai-py"
  },
  "language_info": {
   "codemirror_mode": {
    "name": "ipython",
    "version": 3
   },
   "file_extension": ".py",
   "mimetype": "text/x-python",
   "name": "python",
   "nbconvert_exporter": "python",
   "pygments_lexer": "ipython3",
   "version": "3.10.4"
  }
 },
 "nbformat": 4,
 "nbformat_minor": 5
}
